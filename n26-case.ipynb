{
 "cells": [
  {
   "cell_type": "markdown",
   "metadata": {},
   "source": [
    "### N26 Case Study\n",
    "Author: Garret O'Connell\n",
    "\n",
    "### The Data Set\n",
    "The data describes how TV spending and different marketing channels contribute to user acquisition, using the following variables:\n",
    "\n",
    "* user id\n",
    "* interaction with marketing channels: 1) cpc 2) organic 3) affiliate 4) social\n",
    "* signup data\n",
    "* dates of active TV spending\n",
    "\n",
    "### Tasks\n",
    "1. Give an overview of our channels and how they contribute to user acquisition.\n",
    "2. Estimate the impact of doubling TV spending\n",
    "3. Make appropriate assumptions for the channel touchpoint cost. With your assumptions give recommendations how to change the budget allocation to maximize user acquisition with a constant budget\n",
    "\n",
    "### Approach\n",
    "For task #1 I used a bar chart and a summary table to provide an overview of each channel's contribution to user acquisition by representing both the total number of signups coming from each channel, and the proportion that were on active tv spending days.\n",
    "\n",
    "For task #2 I modelled the effect of tv spending on increasing the number of signups. To do this I estimated the increase in signups on active vs. non-active tv spending days using simple linear regression.\n",
    "\n",
    "For task #3 I made the following assumptions about the touch point costs of the various channels:\n",
    "\n",
    "* CPC: 2€ per signup, based on 2017 survey.\n",
    "* Organic: 5.71€ per signup, based on survey of average SEO costs per month of 1000€, divided by number of organic signups per month.\n",
    "* Affiliate: 1.62€ per signup, based on minimum linkshare monthly cost of 500€ plus estimated 300€ commision on generated revenue, divided by number of affiliate signups per month).\n",
    "* Social: 1.72€ per signup (based on 2017 survey of Facebook ads)."
   ]
  },
  {
   "cell_type": "code",
   "execution_count": 1,
   "metadata": {},
   "outputs": [],
   "source": [
    " # set paths\n",
    "import os\n",
    "import pandas as pd\n",
    "import numpy as np\n",
    "\n",
    "# import data\n",
    "path = os.getcwd()\n",
    "df_tv = pd.read_csv(os.path.join(path,'tv_campaigns.csv'), index_col = False) \n",
    "df_user = pd.read_csv(os.path.join(path,'user_signup_data.csv'), index_col = False)"
   ]
  },
  {
   "cell_type": "code",
   "execution_count": 2,
   "metadata": {},
   "outputs": [],
   "source": [
    "# separate signups depending on dates of active tv spending or not\n",
    "df_tvdate = df_user.loc[df_user['signup_date'].isin(df_tv['date'])]\n",
    "df_notvdate = df_user.loc[~df_user['signup_date'].isin(df_tv['date'])]\n",
    "\n",
    "# count user signups in each channel on active and inactive spending dates\n",
    "df_tvdate = pd.melt(df_tvdate[['cpc','organic','affiliate','social']], var_name=\"channel\", value_name=\"active\").groupby(['channel']).sum().reset_index()\n",
    "df_notvdate = pd.melt(df_notvdate[['cpc','organic','affiliate','social']], var_name=\"channel\", value_name=\"inactive\").groupby(['channel']).sum().reset_index()\n",
    "\n",
    "# merge new tables of active and inactive tv dates and create total column for plotting\n",
    "df_alltv = pd.merge(df_tvdate, df_notvdate,  how='left', on='channel')\n",
    "df_alltv['total'] = df_alltv[['active','inactive']].sum(axis=1)"
   ]
  },
  {
   "cell_type": "code",
   "execution_count": 3,
   "metadata": {},
   "outputs": [
    {
     "data": {
      "text/html": [
       "<div>\n",
       "<style scoped>\n",
       "    .dataframe tbody tr th:only-of-type {\n",
       "        vertical-align: middle;\n",
       "    }\n",
       "\n",
       "    .dataframe tbody tr th {\n",
       "        vertical-align: top;\n",
       "    }\n",
       "\n",
       "    .dataframe thead th {\n",
       "        text-align: right;\n",
       "    }\n",
       "</style>\n",
       "<table border=\"1\" class=\"dataframe\">\n",
       "  <thead>\n",
       "    <tr style=\"text-align: right;\">\n",
       "      <th></th>\n",
       "      <th>channel</th>\n",
       "      <th>active</th>\n",
       "      <th>inactive</th>\n",
       "      <th>total</th>\n",
       "      <th>active %</th>\n",
       "    </tr>\n",
       "  </thead>\n",
       "  <tbody>\n",
       "    <tr>\n",
       "      <th>0</th>\n",
       "      <td>affiliate</td>\n",
       "      <td>421</td>\n",
       "      <td>3476</td>\n",
       "      <td>3897</td>\n",
       "      <td>10.803182</td>\n",
       "    </tr>\n",
       "    <tr>\n",
       "      <th>1</th>\n",
       "      <td>cpc</td>\n",
       "      <td>191</td>\n",
       "      <td>1467</td>\n",
       "      <td>1658</td>\n",
       "      <td>11.519903</td>\n",
       "    </tr>\n",
       "    <tr>\n",
       "      <th>2</th>\n",
       "      <td>organic</td>\n",
       "      <td>59</td>\n",
       "      <td>460</td>\n",
       "      <td>519</td>\n",
       "      <td>11.368015</td>\n",
       "    </tr>\n",
       "    <tr>\n",
       "      <th>3</th>\n",
       "      <td>social</td>\n",
       "      <td>323</td>\n",
       "      <td>2662</td>\n",
       "      <td>2985</td>\n",
       "      <td>10.820771</td>\n",
       "    </tr>\n",
       "  </tbody>\n",
       "</table>\n",
       "</div>"
      ],
      "text/plain": [
       "     channel  active  inactive  total   active %\n",
       "0  affiliate     421      3476   3897  10.803182\n",
       "1        cpc     191      1467   1658  11.519903\n",
       "2    organic      59       460    519  11.368015\n",
       "3     social     323      2662   2985  10.820771"
      ]
     },
     "execution_count": 3,
     "metadata": {},
     "output_type": "execute_result"
    },
    {
     "data": {
      "image/png": "[encoded data removed]",
      "text/plain": [
       "<Figure size 360x504 with 1 Axes>"
      ]
     },
     "metadata": {},
     "output_type": "display_data"
    }
   ],
   "source": [
    "import seaborn as sns\n",
    "import matplotlib.pyplot as plt\n",
    "%matplotlib inline  \n",
    "\n",
    "# plot style\n",
    "sns.set(style=\"whitegrid\")\n",
    "sns.set(font_scale=1.5)\n",
    "\n",
    "# Initialize the matplotlib figure\n",
    "f, ax = plt.subplots(figsize=(5, 7))\n",
    "\n",
    "# Plot the total crashes\n",
    "sns.set_color_codes(\"pastel\")\n",
    "sns.barplot(x=df_alltv[\"total\"], y=df_alltv[\"channel\"],\n",
    "            label=\"active\", color=\"b\")\n",
    "\n",
    "# Plot the crashes where alcohol was involved\n",
    "sns.set_color_codes(\"muted\")\n",
    "sns.barplot(x=df_alltv[\"inactive\"], y=df_alltv[\"channel\"],\n",
    "            label=\"inactive\", color=\"b\");\n",
    "\n",
    "# Add a legend and informative axis label\n",
    "ax.legend(ncol=2, loc=(0,0), frameon=False)\n",
    "plt.setp(ax.get_legend().get_texts(), fontsize='12') # for legend text\n",
    "ax.set(xlim=(0, (df_alltv.total.max().max())+100), ylabel=\"\",\n",
    "       xlabel=\"signups\")\n",
    "ax.tick_params(axis='y', labelsize=15)\n",
    "ax.tick_params(axis='x', labelsize=15)\n",
    "sns.despine(left=True, bottom=True)\n",
    "\n",
    "def change_width(ax, new_value) :\n",
    "    for patch in ax.patches :\n",
    "        current_width = patch.get_height()\n",
    "        diff = current_width - new_value\n",
    "\n",
    "        # we change the bar width\n",
    "        patch.set_height(new_value)\n",
    "\n",
    "        # we recenter the bar\n",
    "        patch.set_y(patch.get_y() + diff * .5)\n",
    "\n",
    "change_width(ax, .5)\n",
    "\n",
    "# summary table\n",
    "df_alltv['active %'] = df_alltv['active']/df_alltv['total']*100\n",
    "\n",
    "def annotateBars(row, ax=ax): \n",
    "       for counter,p in enumerate(ax.patches): \n",
    "            if counter >= (len(ax.patches)/2):\n",
    "                ax.annotate(\"%.2f%%\" % df_alltv['active %'][(counter-4)], ((p.get_x() + p.get_width()-80), p.get_y()+p.get_height()*.85),\n",
    "                ha='center', va='center', fontsize=12, color='white', rotation=90, xytext=(0, 20),\n",
    "                textcoords='offset points') \n",
    "            else:\n",
    "                continue\n",
    "                \n",
    "plot = df_alltv.apply(annotateBars, ax=ax, axis=0);\n",
    "df_alltv"
   ]
  },
  {
   "cell_type": "markdown",
   "metadata": {},
   "source": [
    "### Overview of channels\n",
    "The figure and table above show that the affiliate channel contributes most to user signups, followed by social, then cpc, and organic the least. The percentage of signups from all channels were comparable at 10-11%."
   ]
  },
  {
   "cell_type": "code",
   "execution_count": 4,
   "metadata": {},
   "outputs": [],
   "source": [
    "# add column indicating whether data was active for tv spending\n",
    "df_user['tv'] = df_user['signup_date'].isin(df_tv['date']).astype(int)"
   ]
  },
  {
   "cell_type": "code",
   "execution_count": 5,
   "metadata": {},
   "outputs": [],
   "source": [
    "# count signups per date for modelling effect of active tv spending\n",
    "df_dates = df_user.groupby(['signup_date', 'tv']).size().reset_index(name='signups')"
   ]
  },
  {
   "cell_type": "code",
   "execution_count": 6,
   "metadata": {},
   "outputs": [
    {
     "name": "stdout",
     "output_type": "stream",
     "text": [
      "Model slope:     15.1355421686747\n",
      "Model intercept: 53.614457831325296\n"
     ]
    }
   ],
   "source": [
    "# fit linear regression model\n",
    "\n",
    "from sklearn.linear_model import LinearRegression\n",
    "model = LinearRegression(fit_intercept=True)\n",
    "\n",
    "x = np.array(df_dates['tv'])\n",
    "y = np.array(df_dates['signups'])\n",
    "\n",
    "model.fit(x.reshape(-1, 1), y)\n",
    "\n",
    "# xfit = np.linspace(0, 1)\n",
    "# yfit = model.predict(xfit[:, np.newaxis])\n",
    "\n",
    "# plt.scatter(x, y)\n",
    "# plt.plot(xfit, yfit);\n",
    "print(\"Model slope:    \", model.coef_[0])\n",
    "print(\"Model intercept:\", model.intercept_)"
   ]
  },
  {
   "cell_type": "markdown",
   "metadata": {},
   "source": [
    "### Effect of doubling TV spending\n",
    "The linear regression model indicated that active TV spending increased user signups by 15.14 (model slope) - a 28.28% increase per day compared to inactive days (model intercept). Assuming the relationship between tv spending and user signups increases linearly, and keeping the number of TV spending days constant, this suggests that doubling TV spending days should increase signups by 56.56% (30.28 signups) on active TV spending days (8 days total), resulting in an increase in user signups from 5000 to 5121. "
   ]
  },
  {
   "cell_type": "markdown",
   "metadata": {},
   "source": [
    "### Budget allocation for channels\n",
    "The assumed channel costs are declared at the top of the notebook. Both affiliate and social channels yield the highest number of signups, and are the lowest in estimated cost. From these observations, I would recommend increasing the budget of both the affiliate and social channels to maximise user acquisition."
   ]
  }
 ],
 "metadata": {
  "kernelspec": {
   "display_name": "Python 3",
   "language": "python",
   "name": "python3"
  },
  "language_info": {
   "codemirror_mode": {
    "name": "ipython",
    "version": 3
   },
   "file_extension": ".py",
   "mimetype": "text/x-python",
   "name": "python",
   "nbconvert_exporter": "python",
   "pygments_lexer": "ipython3",
   "version": "3.6.6"
  }
 },
 "nbformat": 4,
 "nbformat_minor": 2
}
