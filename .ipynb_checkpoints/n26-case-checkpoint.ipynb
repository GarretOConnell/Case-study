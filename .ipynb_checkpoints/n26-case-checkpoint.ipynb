{
 "cells": [
  {
   "cell_type": "markdown",
   "metadata": {},
   "source": [
    "### N26 Case Study\n",
    "Author: Garret O'Connell\n",
    "\n",
    "### The Data Set\n",
    "The data describes how TV spending and different marketing channels contribute to user acquisition, using the following variables:\n",
    "\n",
    "*user id\n",
    "*interaction with marketing channels: 1) cpc 2) organic 3) affiliate 4) social\n",
    "*signup data\n",
    "*dates of active TV spending\n",
    "\n",
    "### Task\n",
    "1. Give an overview of our channels and how they contribute to user acquisition.\n",
    "2. Estimate the impact of doubling TV spending\n",
    "3. Make appropriate assumptions for the channel touchpoint cost. With your assumptions give recommendations how to change the budget allocation to maximize user acquisition with a constant budget\n",
    "\n",
    "### Approach\n",
    "\n",
    "\n",
    "### Data cleaning"
   ]
  },
  {
   "cell_type": "code",
   "execution_count": 37,
   "metadata": {},
   "outputs": [],
   "source": [
    " # set paths\n",
    "import os\n",
    "import pandas as pd\n",
    "import numpy as np\n",
    "\n",
    "# import data\n",
    "path = os.getcwd()\n",
    "df_tv = pd.read_csv(os.path.join(path,'tv_campaigns.csv'), index_col = False) \n",
    "df_user = pd.read_csv(os.path.join(path,'user_signup_data.csv'), index_col = False)"
   ]
  },
  {
   "cell_type": "code",
   "execution_count": 38,
   "metadata": {},
   "outputs": [],
   "source": [
    "# count user signups in each channel for plotting\n",
    "df_channel = pd.melt(df_user[['cpc','organic','affiliate','social']], var_name=\"channel\", value_name=\"total signups\").groupby(['channel']).sum().reset_index()"
   ]
  },
  {
   "cell_type": "code",
   "execution_count": 39,
   "metadata": {},
   "outputs": [
    {
     "data": {
      "image/png": "[encoded data removed]",
      "text/plain": [
       "<Figure size 432x288 with 1 Axes>"
      ]
     },
     "metadata": {},
     "output_type": "display_data"
    }
   ],
   "source": [
    "import seaborn as sns\n",
    "import matplotlib.pyplot as plt\n",
    "%matplotlib inline  \n",
    "\n",
    "# plot total user signups by channel\n",
    "ax = sns.barplot(x=\"channel\", y=\"total signups\", data=df_channel)"
   ]
  },
  {
   "cell_type": "markdown",
   "metadata": {},
   "source": [
    "### Overview of channels\n",
    "The affiliate channel contributes most to user signups, followed by social, then cpc, and organic the least."
   ]
  },
  {
   "cell_type": "code",
   "execution_count": 68,
   "metadata": {},
   "outputs": [],
   "source": [
    "# separate signups depending on dates of active tv spending or not\n",
    "df_tvdate = df_user.loc[df_user['signup_date'].isin(df_tv['date'])]\n",
    "df_notvdate = df_user.loc[~df_user['signup_date'].isin(df_tv['date'])]\n",
    "\n",
    "# count user signups in each channel on active and inactive spending dates\n",
    "df_tvdate = pd.melt(df_tvdate[['cpc','organic','affiliate','social']], var_name=\"channel\", value_name=\"active\").groupby(['channel']).sum().reset_index()\n",
    "df_notvdate = pd.melt(df_notvdate[['cpc','organic','affiliate','social']], var_name=\"channel\", value_name=\"inactive\").groupby(['channel']).sum().reset_index()\n",
    "\n",
    "# merge new tables of active and inactive tv dates and create total column for plotting\n",
    "df_alltv = pd.merge(df_tvdate, df_notvdate,  how='left', on='channel')\n",
    "df_alltv['total'] = df_alltv[['active','inactive']].sum(axis=1)"
   ]
  },
  {
   "cell_type": "code",
   "execution_count": 148,
   "metadata": {},
   "outputs": [
    {
     "data": {
      "image/png": "[encoded data removed]",
      "text/plain": [
       "<Figure size 360x504 with 1 Axes>"
      ]
     },
     "metadata": {},
     "output_type": "display_data"
    },
    {
     "data": {
      "text/html": [
       "<div>\n",
       "<style scoped>\n",
       "    .dataframe tbody tr th:only-of-type {\n",
       "        vertical-align: middle;\n",
       "    }\n",
       "\n",
       "    .dataframe tbody tr th {\n",
       "        vertical-align: top;\n",
       "    }\n",
       "\n",
       "    .dataframe thead th {\n",
       "        text-align: right;\n",
       "    }\n",
       "</style>\n",
       "<table border=\"1\" class=\"dataframe\">\n",
       "  <thead>\n",
       "    <tr style=\"text-align: right;\">\n",
       "      <th></th>\n",
       "      <th>channel</th>\n",
       "      <th>active</th>\n",
       "      <th>inactive</th>\n",
       "      <th>total</th>\n",
       "      <th>active perc</th>\n",
       "      <th>active %</th>\n",
       "    </tr>\n",
       "  </thead>\n",
       "  <tbody>\n",
       "    <tr>\n",
       "      <th>0</th>\n",
       "      <td>affiliate</td>\n",
       "      <td>421</td>\n",
       "      <td>3476</td>\n",
       "      <td>3897</td>\n",
       "      <td>10.803182</td>\n",
       "      <td>10.803182</td>\n",
       "    </tr>\n",
       "    <tr>\n",
       "      <th>1</th>\n",
       "      <td>cpc</td>\n",
       "      <td>191</td>\n",
       "      <td>1467</td>\n",
       "      <td>1658</td>\n",
       "      <td>11.519903</td>\n",
       "      <td>11.519903</td>\n",
       "    </tr>\n",
       "    <tr>\n",
       "      <th>2</th>\n",
       "      <td>organic</td>\n",
       "      <td>59</td>\n",
       "      <td>460</td>\n",
       "      <td>519</td>\n",
       "      <td>11.368015</td>\n",
       "      <td>11.368015</td>\n",
       "    </tr>\n",
       "    <tr>\n",
       "      <th>3</th>\n",
       "      <td>social</td>\n",
       "      <td>323</td>\n",
       "      <td>2662</td>\n",
       "      <td>2985</td>\n",
       "      <td>10.820771</td>\n",
       "      <td>10.820771</td>\n",
       "    </tr>\n",
       "  </tbody>\n",
       "</table>\n",
       "</div>"
      ],
      "text/plain": [
       "     channel  active  inactive  total  active perc   active %\n",
       "0  affiliate     421      3476   3897    10.803182  10.803182\n",
       "1        cpc     191      1467   1658    11.519903  11.519903\n",
       "2    organic      59       460    519    11.368015  11.368015\n",
       "3     social     323      2662   2985    10.820771  10.820771"
      ]
     },
     "execution_count": 148,
     "metadata": {},
     "output_type": "execute_result"
    }
   ],
   "source": [
    "import seaborn as sns\n",
    "import matplotlib.pyplot as plt\n",
    "%matplotlib inline  \n",
    "\n",
    "# plot style\n",
    "sns.set(style=\"whitegrid\")\n",
    "sns.set(font_scale=1.5)\n",
    "\n",
    "# Initialize the matplotlib figure\n",
    "f, ax = plt.subplots(figsize=(5, 7))\n",
    "\n",
    "# Plot the total crashes\n",
    "sns.set_color_codes(\"pastel\")\n",
    "sns.barplot(x=df_alltv[\"total\"], y=df_alltv[\"channel\"],\n",
    "            label=\"active\", color=\"b\")\n",
    "\n",
    "# Plot the crashes where alcohol was involved\n",
    "sns.set_color_codes(\"muted\")\n",
    "sns.barplot(x=df_alltv[\"inactive\"], y=df_alltv[\"channel\"],\n",
    "            label=\"inactive\", color=\"b\");\n",
    "\n",
    "# Add a legend and informative axis label\n",
    "ax.legend(ncol=2, loc=\"lower right\", frameon=True)\n",
    "ax.set(xlim=(0, (df_alltv.total.max().max())+2), ylabel=\"\",\n",
    "       xlabel=\"signups\")\n",
    "ax.tick_params(axis='y', labelsize=15)\n",
    "ax.tick_params(axis='x', labelsize=15)\n",
    "sns.despine(left=True, bottom=True)\n",
    "\n",
    "def change_width(ax, new_value) :\n",
    "    for patch in ax.patches :\n",
    "        current_width = patch.get_height()\n",
    "        diff = current_width - new_value\n",
    "\n",
    "        # we change the bar width\n",
    "        patch.set_height(new_value)\n",
    "\n",
    "        # we recenter the bar\n",
    "        patch.set_y(patch.get_y() + diff * .5)\n",
    "\n",
    "change_width(ax, .35)\n",
    "plt.show()\n",
    "\n",
    "# count = -1\n",
    "# signed = df_alltv[['total','inactive']].as_matrix()\n",
    "# signed[:,0] = signed[:,0] - signed[:,1]\n",
    "\n",
    "# def annotateBars(row, ax=ax): \n",
    "#        for counter,p in enumerate(ax.patches):  \n",
    "#              ax.annotate(\"%d\" % signed.flatten(1)[counter], ((p.get_x() + p.get_width()-.5), p.get_y()+p.get_height()*.75),\n",
    "#                  ha='center', va='center', fontsize=10, color='white', rotation=90, xytext=(0, 20),\n",
    "#                  textcoords='offset points')  \n",
    "\n",
    "# plot = df_alltv.apply(annotateBars, ax=ax, axis=0);\n",
    "\n",
    "# summary table\n",
    "df_alltv['active %'] = df_alltv['active']/df_alltv['total']*100\n",
    "df_alltv"
   ]
  },
  {
   "cell_type": "markdown",
   "metadata": {},
   "source": [
    "### Active and inactive signups per channel\n",
    "The figure and table above show that the percentage of signups from all channels were comparable at ~10%. This suggests that doubling tv spending would lead to a 20% increase (~1800) in signups."
   ]
  },
  {
   "cell_type": "code",
   "execution_count": 113,
   "metadata": {},
   "outputs": [],
   "source": [
    "# add column indicating whether data was active for tv spending\n",
    "df_user['tv'] = df_user['signup_date'].isin(df_tv['date']).astype(int)"
   ]
  },
  {
   "cell_type": "code",
   "execution_count": 125,
   "metadata": {},
   "outputs": [],
   "source": [
    "# count signups per date for modelling effect of active tv spending\n",
    "df_dates = df_user.groupby(['signup_date', 'tv']).size().reset_index(name='signups')"
   ]
  },
  {
   "cell_type": "code",
   "execution_count": 146,
   "metadata": {},
   "outputs": [
    {
     "name": "stdout",
     "output_type": "stream",
     "text": [
      "Model slope:     15.1355421686747\n",
      "Model intercept: 53.614457831325296\n"
     ]
    },
    {
     "data": {
      "text/plain": [
       "0.29856128709671115"
      ]
     },
     "execution_count": 146,
     "metadata": {},
     "output_type": "execute_result"
    }
   ],
   "source": [
    "# fit linear regression model\n",
    "\n",
    "from sklearn.linear_model import LinearRegression\n",
    "model = LinearRegression(fit_intercept=True)\n",
    "\n",
    "x = np.array(df_dates['tv'])\n",
    "y = np.array(df_dates['signups'])\n",
    "\n",
    "model.fit(x.reshape(-1, 1), y)\n",
    "\n",
    "# xfit = np.linspace(0, 1)\n",
    "# yfit = model.predict(xfit[:, np.newaxis])\n",
    "\n",
    "# plt.scatter(x, y)\n",
    "# plt.plot(xfit, yfit);\n",
    "print(\"Model slope:    \", model.coef_[0])\n",
    "print(\"Model intercept:\", model.intercept_)\n",
    "model.score(x.reshape(-1, 1), y)"
   ]
  }
 ],
 "metadata": {
  "kernelspec": {
   "display_name": "Python 3",
   "language": "python",
   "name": "python3"
  },
  "language_info": {
   "codemirror_mode": {
    "name": "ipython",
    "version": 3
   },
   "file_extension": ".py",
   "mimetype": "text/x-python",
   "name": "python",
   "nbconvert_exporter": "python",
   "pygments_lexer": "ipython3",
   "version": "3.6.6"
  }
 },
 "nbformat": 4,
 "nbformat_minor": 2
}
